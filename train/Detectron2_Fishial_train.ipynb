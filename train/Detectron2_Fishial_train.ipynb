{
  "nbformat": 4,
  "nbformat_minor": 0,
  "metadata": {
    "colab": {
      "name": "Detectron2: Fishial train .ipynb",
      "provenance": [],
      "collapsed_sections": [],
      "toc_visible": true
    },
    "kernelspec": {
      "display_name": "Python 3",
      "language": "python",
      "name": "python3"
    },
    "language_info": {
      "codemirror_mode": {
        "name": "ipython",
        "version": 3
      },
      "file_extension": ".py",
      "mimetype": "text/x-python",
      "name": "python",
      "nbconvert_exporter": "python",
      "pygments_lexer": "ipython3",
      "version": "3.7.3"
    },
    "accelerator": "GPU"
  },
  "cells": [
    {
      "cell_type": "markdown",
      "metadata": {
        "id": "t995W39KWYIM"
      },
      "source": [
        "# Detectron2: Fishial \n"
      ]
    },
    {
      "cell_type": "code",
      "metadata": {
        "id": "c03oQPeCWgxC"
      },
      "source": [
        "# install dependencies: (use cu100 because colab is on CUDA 10.0)\n",
        "!pip install -U torch==1.4+cu100 torchvision==0.5+cu100 -f https://download.pytorch.org/whl/torch_stable.html \n",
        "!pip install cython pyyaml==5.1\n",
        "!pip install -U 'git+https://github.com/cocodataset/cocoapi.git#subdirectory=PythonAPI'\n",
        "!gcc --version\n",
        "!pip install imantics\n",
        "# opencv is pre-installed on colab\n",
        "# install detectron2:\n",
        "!pip install detectron2 -f https://dl.fbaipublicfiles.com/detectron2/wheels/cu100/index.html\n",
        "!pip install git+https://github.com/aleju/imgaug.git"
      ],
      "execution_count": null,
      "outputs": []
    },
    {
      "cell_type": "markdown",
      "metadata": {
        "id": "F01dpwwiWBHZ"
      },
      "source": [
        "##Connect google drive"
      ]
    },
    {
      "cell_type": "code",
      "metadata": {
        "id": "FsQxWwN8-j7h"
      },
      "source": [
        "import torch, torchvision\n",
        "torch.__version__\n",
        "from google.colab import drive\n",
        "drive.mount('/content/drive')"
      ],
      "execution_count": null,
      "outputs": []
    },
    {
      "cell_type": "markdown",
      "metadata": {
        "id": "oyvHKjDWW2rb"
      },
      "source": [
        "## Import dependences"
      ]
    },
    {
      "cell_type": "code",
      "metadata": {
        "id": "Y19zWbMmnWlz"
      },
      "source": [
        "import detectron2\n",
        "from detectron2.utils.logger import setup_logger\n",
        "setup_logger()\n",
        "\n",
        "# import some common libraries\n",
        "import numpy as np\n",
        "import cv2\n",
        "import matplotlib.pyplot as plt\n",
        "\n",
        "# import some common detectron2 utilities\n",
        "from detectron2 import model_zoo\n",
        "from detectron2.engine import DefaultPredictor\n",
        "from detectron2.config import get_cfg\n",
        "from detectron2.utils.visualizer import Visualizer\n",
        "from detectron2.data import MetadataCatalog"
      ],
      "execution_count": null,
      "outputs": []
    },
    {
      "cell_type": "code",
      "metadata": {
        "id": "bw1cNaKKMCu3"
      },
      "source": [
        "!rm -rf output/"
      ],
      "execution_count": null,
      "outputs": []
    },
    {
      "cell_type": "markdown",
      "metadata": {
        "id": "EisBfAnOnZSg"
      },
      "source": [
        "Before we can start training our model we need to download some dataset. We use our dataset which we put to google drive and unpacking on googlecolab VM"
      ]
    },
    {
      "cell_type": "code",
      "metadata": {
        "id": "pd4fS8BsW7YQ"
      },
      "source": [
        "!ls\n",
        "!unzip 'drive/My Drive/dataset/fishial.zip' > /dev/null\n",
        "!ls"
      ],
      "execution_count": null,
      "outputs": []
    },
    {
      "cell_type": "markdown",
      "metadata": {
        "id": "kr2w-ShonzL5"
      },
      "source": [
        "Register our dataset to detectron2 as a COCO formate"
      ]
    },
    {
      "cell_type": "code",
      "metadata": {
        "id": "3kPMjc7oXKBf"
      },
      "source": [
        "import os\n",
        "import numpy as np\n",
        "import json\n",
        "from detectron2.structures import BoxMode\n",
        "import itertools\n",
        "from detectron2.data.datasets import register_coco_instances\n",
        "from detectron2.data.datasets.coco import convert_to_coco_json\n",
        "import cv2\n",
        "# write a function that loads the dataset into detectron2's standard format\n",
        "def get_dataset_dicts(img_dir):\n",
        "    json_file = os.path.join(img_dir, \"via_region_data.json\")\n",
        "    with open(json_file) as f:\n",
        "        imgs_anns = json.load(f)\n",
        "\n",
        "    dataset_dicts = []\n",
        "    for _, v in imgs_anns.items():\n",
        "        if len(v[\"regions\"]['0']['shape_attributes']['all_points_x']) < 20:\n",
        "          continue\n",
        "        record = {}\n",
        "        filename = os.path.join(img_dir, v[\"filename\"])\n",
        "        width, height = cv2.imread(filename).shape[:2]        \n",
        "        record[\"file_name\"] = v[\"filename\"]\n",
        "        record[\"height\"] = width \n",
        "        record[\"width\"] = height\n",
        "      \n",
        "        annos = v[\"regions\"]\n",
        "        objs = []\n",
        "        for _, anno in annos.items():\n",
        "            assert not anno[\"region_attributes\"]\n",
        "            anno = anno[\"shape_attributes\"]\n",
        "            \n",
        "            px = anno[\"all_points_x\"]\n",
        "            py = anno[\"all_points_y\"]\n",
        "            poly = [(x + 0.5, y + 0.5) for x, y in zip(px, py)]\n",
        "            poly = list(itertools.chain.from_iterable(poly))\n",
        "\n",
        "            obj = {\n",
        "                \"bbox\": [np.min(px), np.min(py), np.max(px), np.max(py)],\n",
        "                \"bbox_mode\": BoxMode.XYXY_ABS,\n",
        "                \"segmentation\": [poly],\n",
        "                \"category_id\": 0,\n",
        "                \"iscrowd\": 0\n",
        "            }\n",
        "            objs.append(obj)\n",
        "        record[\"annotations\"] = objs\n",
        "        dataset_dicts.append(record)\n",
        "    return dataset_dicts\n",
        "\n",
        "from detectron2.data import DatasetCatalog, MetadataCatalog\n",
        "\n",
        "for d in [\"val\"]:\n",
        "    DatasetCatalog.register(\"fishial/\" + d, lambda d=d: get_dataset_dicts(\"fishial/\" + d))\n",
        "    MetadataCatalog.get(\"fishial/\" + d).set(thing_classes=[\"fishial\"])\n",
        "    convert_to_coco_json(\"fishial/\" + d, 'fishial/'+d+'.json')\n",
        "\n",
        "register_coco_instances(\"fishial/train-coco\", {}, \"fishial/train.json\",\n",
        "                        \"fishial/train\")\n",
        "\n",
        "register_coco_instances(\"fishial/val-coco\", {}, \"fishial/val.json\",\n",
        "                        \"fishial/val\")\n",
        "\n",
        "# balloon_metadata_train = MetadataCatalog.get(\"fishial/train-coco\")\n",
        "balloon_metadata_val = MetadataCatalog.get(\"fishial/val-coco\")\n"
      ],
      "execution_count": null,
      "outputs": []
    },
    {
      "cell_type": "markdown",
      "metadata": {
        "id": "Nc4-fxI-oLk-"
      },
      "source": [
        "Config train pipline"
      ]
    },
    {
      "cell_type": "code",
      "metadata": {
        "id": "hYjCcRL4XPOu"
      },
      "source": [
        "from detectron2.engine import DefaultTrainer\n",
        "from detectron2.config import get_cfg\n",
        "from detectron2.evaluation.coco_evaluation import COCOEvaluator\n",
        "from detectron2.engine import DefaultTrainer\n",
        "\n",
        "class MyTrainer(DefaultTrainer):\n",
        "\n",
        "  # Uncomment if you want to made evalute VAL sets on COCOEvalutor\n",
        "    @classmethod\n",
        "    def build_evaluator(cls, cfg, dataset_name, output_folder=None):\n",
        "        if output_folder is None:\n",
        "            output_folder = os.path.join(cfg.OUTPUT_DIR, \"inference\")\n",
        "        return COCOEvaluator(dataset_name, cfg, True, output_folder)\n",
        "\n",
        "cfg = get_cfg()\n",
        "\n",
        "cfg.merge_from_file(model_zoo.get_config_file(\"COCO-InstanceSegmentation/mask_rcnn_R_50_FPN_3x.yaml\"))\n",
        "cfg.MODEL.WEIGHTS = model_zoo.get_checkpoint_url(\"COCO-InstanceSegmentation/mask_rcnn_R_50_FPN_3x.yaml\")\n",
        "cfg.MODEL.WEIGHTS = r\"drive/My Drive/dataset/output/new29.230-42.681/model_final.pth\"\n",
        "\n",
        "cfg.DATASETS.TRAIN = (\"fishial/train-coco\",)\n",
        "cfg.DATASETS.TEST = (\"fishial/val-coco\",)\n",
        "# this parameter evaluate model on validation dataset each 2000 steps \n",
        "cfg.TEST.EVAL_PERIOD = 2000\n",
        "cfg.DATALOADER.NUM_WORKERS = 2\n",
        "cfg.SOLVER.IMS_PER_BATCH = 2\n",
        "cfg.SOLVER.BASE_LR = 0.00018\n",
        "cfg.SOLVER.MAX_ITER = 25000\n",
        "cfg.MODEL.ROI_HEADS.BATCH_SIZE_PER_IMAGE = 1024   # faster, and good enough for this toy dataset\n",
        "cfg.MODEL.ROI_HEADS.NUM_CLASSES = 1  # only has one class (ballon)\n",
        "\n",
        "# If you useing caustom data loader\n",
        "# os.makedirs(cfg.OUTPUT_DIR, exist_ok=True)\n",
        "# trainer = MyTrainer(cfg) \n",
        "# trainer.resume_or_load(resume=False)\n",
        "# trainer.train()"
      ],
      "execution_count": null,
      "outputs": []
    },
    {
      "cell_type": "code",
      "metadata": {
        "id": "zK5ht4PkKelu"
      },
      "source": [
        "# copy checkpoint to google drive \n",
        "!mkdir -p 'drive/My Drive/dataset/output/newFaster28.379-41'\n",
        "!cp -R 'output/model_final.pth' 'drive/My Drive/dataset/output/newFaster28.379-41'"
      ],
      "execution_count": null,
      "outputs": []
    },
    {
      "cell_type": "markdown",
      "metadata": {
        "id": "pSYxOlrSoYQO"
      },
      "source": [
        "##Creating a predictor object."
      ]
    },
    {
      "cell_type": "code",
      "metadata": {
        "id": "nHY6xERfXY4z"
      },
      "source": [
        "from detectron2.utils.visualizer import ColorMode\n",
        "import random\n",
        "import urllib\n",
        "import os\n",
        "cfg.MODEL.WEIGHTS = r'/content/drive/My Drive/Colab Notebooks/TEST/model_0059999.pth'\n",
        "cfg.MODEL.ROI_HEADS.SCORE_THRESH_TEST = 0.19   # set the testing threshold for this model\n",
        "cfg.DATASETS.TEST = (\"fishial/val\", )\n",
        "predictor = DefaultPredictor(cfg)"
      ],
      "execution_count": null,
      "outputs": []
    },
    {
      "cell_type": "markdown",
      "metadata": {
        "id": "_XUTUj-xUkN_"
      },
      "source": [
        "###Visualization for Instance segmentation Model"
      ]
    },
    {
      "cell_type": "code",
      "metadata": {
        "id": "Ey9Qg7fsXfx5"
      },
      "source": [
        "dataset_dicts = get_dataset_dicts(\"fishial/val\")\n",
        "import time\n",
        "for d in random.sample(dataset_dicts, 20):\n",
        "    print(d['file_name'])\n",
        "    im = cv2.imread(os.path.join('fishial/val', d['file_name']))\n",
        "    start_time = time.time()\n",
        "    outputs = predictor(im)\n",
        "    print(\"--- %s seconds ---\" % (time.time() - start_time))\n",
        "    v = Visualizer(im[:, :, ::-1],\n",
        "                   MetadataCatalog.get(cfg.DATASETS.TRAIN[0]), \n",
        "                   scale=4, \n",
        "                    instance_mode=ColorMode.IMAGE_BW   # remove the colors of unsegmented pixels\n",
        "    )\n",
        "    v = v.draw_instance_predictions(outputs[\"instances\"].to(\"cpu\"))\n",
        "    plt.figure(figsize = (14, 10))\n",
        "    plt.imshow(cv2.cvtColor(v.get_image()[:, :, ::-1], cv2.COLOR_BGR2RGB))\n",
        "    plt.show()"
      ],
      "execution_count": null,
      "outputs": []
    },
    {
      "cell_type": "code",
      "metadata": {
        "id": "cTdzsqL-VBDL"
      },
      "source": [
        "urllib.request.urlretrieve(\"https://encrypted-tbn0.gstatic.com/images?q=tbn%3AANd9GcT9Voxjof7LSZyIMzHUBar-SI9TIm3RYYSxzr7qc19X-HSHJ4h1&usqp=CAU\", \"00000001.jpg\")\n",
        "im = cv2.imread( \"00000001.jpg\")\n",
        "outputs = predictor(im)\n",
        "print(len(outputs['instances']))\n",
        "v = Visualizer(im[:, :, ::-1], MetadataCatalog.get(cfg.DATASETS.TRAIN[0]), scale=4, \n",
        "               instance_mode=ColorMode.IMAGE_BW)   # remove the colors of unsegmented pixels\n",
        "v = v.draw_instance_predictions(outputs[\"instances\"].to(\"cpu\"))\n",
        "plt.figure(figsize = (14, 10))\n",
        "plt.imshow(cv2.cvtColor(v.get_image()[:, :, ::-1], cv2.COLOR_BGR2RGB))\n",
        "plt.show()"
      ],
      "execution_count": null,
      "outputs": []
    },
    {
      "cell_type": "code",
      "metadata": {
        "id": "DfVYcmSzB4pd"
      },
      "source": [
        "masks = np.array(outputs['instances'].get('pred_masks')[0].to('cpu'))\n",
        "print(masks)"
      ],
      "execution_count": null,
      "outputs": []
    },
    {
      "cell_type": "markdown",
      "metadata": {
        "id": "w8tAQ7HKU2Y9"
      },
      "source": [
        "###For Bouding box"
      ]
    },
    {
      "cell_type": "code",
      "metadata": {
        "id": "7BuMVPsyUw32"
      },
      "source": [
        "dataset_dicts = get_dataset_dicts(\"fishial/val\")\n",
        "for d in random.sample(dataset_dicts, 3):\n",
        "    urllib.request.urlretrieve(\"https://www.aqvium.ru/images/blog/2016-11-08-glofish/Origins-glofish.jpg\", \"00000001.jpg\")\n",
        "    im = cv2.imread(d['file_name'])\n",
        "    outputs = predictor(im)\n",
        "    v = Visualizer(im[:, :, ::-1], metadata=balloon_metadata, scale=0.8)\n",
        "    v = v.draw_instance_predictions(outputs[\"instances\"].to(\"cpu\"))\n",
        "    plt.figure(figsize = (14, 10))\n",
        "    plt.imshow(cv2.cvtColor(v.get_image()[:, :, ::-1], cv2.COLOR_BGR2RGB))\n",
        "    plt.show()"
      ],
      "execution_count": null,
      "outputs": []
    },
    {
      "cell_type": "code",
      "metadata": {
        "id": "sF8-lCoSVAEB"
      },
      "source": [
        "urllib.request.urlretrieve(\"https://www.aqvium.ru/images/blog/2016-11-08-glofish/Origins-glofish.jpg\", \"00000001.jpg\")\n",
        "im = cv2.imread(d['file_name'])\n",
        "outputs = predictor(im)\n",
        "v = Visualizer(im[:, :, ::-1], metadata=balloon_metadata, scale=0.8)\n",
        "v = v.draw_instance_predictions(outputs[\"instances\"].to(\"cpu\"))\n",
        "plt.figure(figsize = (14, 10))\n",
        "plt.imshow(cv2.cvtColor(v.get_image()[:, :, ::-1], cv2.COLOR_BGR2RGB))\n",
        "plt.show()"
      ],
      "execution_count": null,
      "outputs": []
    },
    {
      "cell_type": "markdown",
      "metadata": {
        "id": "ScEuGDH9ojs1"
      },
      "source": [
        "If we want we can also display the training process through Tensorboard."
      ]
    },
    {
      "cell_type": "code",
      "metadata": {
        "id": "fuDVxn-QXhXb"
      },
      "source": [
        "# Look at training curves in tensorboard:\n",
        "%load_ext tensorboard\n",
        "%tensorboard --logdir output"
      ],
      "execution_count": null,
      "outputs": []
    },
    {
      "cell_type": "code",
      "metadata": {
        "id": "3n90bfYYXXxL"
      },
      "source": [
        "import json\n",
        "import matplotlib.pyplot as plt\n",
        "\n",
        "experiment_folder = './output'\n",
        "\n",
        "def load_json_arr(json_path):\n",
        "    lines = []\n",
        "    with open(json_path, 'r') as f:\n",
        "        for line in f:\n",
        "            lines.append(json.loads(line))\n",
        "    return lines\n",
        "\n",
        "experiment_metrics = load_json_arr(experiment_folder + '/metrics.json')\n",
        "\n",
        "plt.plot(\n",
        "    [x['iteration'] for x in experiment_metrics], \n",
        "    [x['total_loss'] for x in experiment_metrics])\n",
        "plt.plot(\n",
        "    [x['iteration'] for x in experiment_metrics if 'validation_loss' in x], \n",
        "    [x['validation_loss'] for x in experiment_metrics if 'validation_loss' in x])\n",
        "plt.legend(['total_loss', 'validation_loss'], loc='upper left')\n",
        "plt.show()"
      ],
      "execution_count": null,
      "outputs": []
    },
    {
      "cell_type": "code",
      "metadata": {
        "id": "buJOJV_dXvCh"
      },
      "source": [
        "!rm -rf output/"
      ],
      "execution_count": null,
      "outputs": []
    },
    {
      "cell_type": "code",
      "metadata": {
        "id": "fbAAgTO6XyQE"
      },
      "source": [
        "# This is the video we're going to process\n",
        "from IPython.display import YouTubeVideo, display\n",
        "video = YouTubeVideo(\"H3UwLsvACl4\", width=500)\n",
        "display(video)"
      ],
      "execution_count": null,
      "outputs": []
    },
    {
      "cell_type": "code",
      "metadata": {
        "id": "RdASsiy_Dxx2"
      },
      "source": [
        "# Install dependencies, download the video, and crop 5 seconds for processing\n",
        "!pip install youtube-dl\n",
        "!pip uninstall -y opencv-python opencv-contrib-python\n",
        "!apt install python3-opencv  # the one pre-installed have some issues\n",
        "!youtube-dl https://www.youtube.com/watch?v=H3UwLsvACl4 -f 22 -o video.mp4\n",
        "!ffmpeg -i video.mp4 -t 00:00:06 -c:v copy video-clip.mp4"
      ],
      "execution_count": null,
      "outputs": []
    },
    {
      "cell_type": "code",
      "metadata": {
        "id": "9JRFK_w5D0Jb"
      },
      "source": [
        "# Run frame-by-frame inference demo on this video (takes 3-4 minutes)\n",
        "# Using a model trained on COCO dataset\n",
        "# !git clone https://github.com/facebookresearch/detectron2\n",
        "!python detectron2/demo/demo.py --config-file detectron2/configs/COCO-InstanceSegmentation/mask_rcnn_R_50_FPN_3x.yaml --video-input video-clip.mp4 --confidence-threshold 0.1 --output video-output.mkv \\\n",
        "  --opts MODEL.WEIGHTS output/model_final.pth"
      ],
      "execution_count": null,
      "outputs": []
    },
    {
      "cell_type": "code",
      "metadata": {
        "id": "rWsM7_EgD1z9"
      },
      "source": [
        "# Download the results\n",
        "from google.colab import files\n",
        "files.download('via_region_data.json')"
      ],
      "execution_count": null,
      "outputs": []
    },
    {
      "cell_type": "code",
      "metadata": {
        "id": "WxzVeYUB7YhC"
      },
      "source": [
        "def get_format_dict(title, area, array_x, array_y, filename):\n",
        "    return {\n",
        "            title: {\n",
        "                \"fileref\": \"\",\n",
        "                \"size\": area,\n",
        "                \"filename\": filename,\n",
        "                \"base64_img_data\": \"\",\n",
        "                \"verified\": False,\n",
        "                \"correct\": False,\n",
        "                \"file_attributes\": {\n",
        "                },\n",
        "                \"regions\": {\n",
        "                    \"0\": {\n",
        "                        \"shape_attributes\": {\n",
        "                            \"name\": \"polygon\",\n",
        "                            \"all_points_x\": array_x,\n",
        "                            \"all_points_y\": array_y\n",
        "                        },\n",
        "                        \"region_attributes\": {\n",
        "\n",
        "                        }\n",
        "                    }\n",
        "                }\n",
        "            }\n",
        "        }"
      ],
      "execution_count": null,
      "outputs": []
    },
    {
      "cell_type": "markdown",
      "metadata": {
        "id": "QetQhwbneuvP"
      },
      "source": [
        "##Create polygons dictionary\n",
        "this code for create synthetic dataset"
      ]
    },
    {
      "cell_type": "code",
      "metadata": {
        "id": "2rzPzcWOFOHz"
      },
      "source": [
        "import os, json\n",
        "import cv2\n",
        "import pandas as pd\n",
        "from shutil import copyfile\n",
        "import re\n",
        "from imantics import Polygons, Mask\n",
        "import warnings\n",
        "\n",
        "path_img = r'parsing'\n",
        "list_path_img = [os.path.basename(i) for i in os.listdir(path_img)]\n",
        "anotation_dict = {}\n",
        "for idx, img_name in enumerate(list_path_img):\n",
        "  print(\"Score: {}\".format(len(list_path_img) - idx), len(anotation_dict))\n",
        "  im = cv2.imread(os.path.join(path_img, img_name))\n",
        "  w,h,_ = im.shape\n",
        "  outputs = predictor(im)\n",
        "  for z in range(len(outputs['instances'])):\n",
        "    masks = np.array(outputs['instances'].get('pred_masks')[z].to('cpu'))\n",
        "    polygons = Mask(masks).polygons()\n",
        "    x_array = []\n",
        "    y_array = []\n",
        "    for i in polygons.points[0]:\n",
        "      x_array.append(int(i[0]))\n",
        "      y_array.append(int(i[1]))\n",
        "\n",
        "    anotation_dict.update(get_format_dict(\n",
        "        img_name+\"_main_\"+str(z),\n",
        "        w*h,\n",
        "        x_array,\n",
        "        y_array,\n",
        "        img_name))\n",
        "    \n",
        "with open('via_region_data.json', 'w') as fp:\n",
        "    json.dump(anotation_dict, fp)"
      ],
      "execution_count": null,
      "outputs": []
    }
  ]
}