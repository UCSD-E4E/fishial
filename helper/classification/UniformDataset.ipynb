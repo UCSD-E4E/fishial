{
 "cells": [
  {
   "cell_type": "code",
   "execution_count": 29,
   "id": "2cd0baf7",
   "metadata": {},
   "outputs": [],
   "source": [
    "import json\n",
    "import random"
   ]
  },
  {
   "cell_type": "code",
   "execution_count": 45,
   "id": "3ed5e9b8",
   "metadata": {},
   "outputs": [],
   "source": [
    "def remove_indices(data, indieces):\n",
    "    for del_idx in indieces:\n",
    "        for row in data:\n",
    "            del data[row][del_idx]\n",
    "\n",
    "def disturb_dataset(data, img_per_class):\n",
    "    \n",
    "    for label_encoded in list(set(data['label_encoded'])):\n",
    "        indices = [i for i, x in enumerate(data['label_encoded']) if x == label_encoded]\n",
    "        if len(indices) > img_per_class:\n",
    "            del_indices = random.sample(indices, len(indices) - img_per_class)\n",
    "            del_indices.sort(reverse= True)\n",
    "            remove_indices(data, del_indices)"
   ]
  },
  {
   "cell_type": "code",
   "execution_count": 46,
   "id": "faedb60a",
   "metadata": {},
   "outputs": [],
   "source": [
    "max_img_per_class_train = 56\n",
    "max_img_per_class_test = 25\n",
    "\n",
    "with open('dataset/data_train.json') as json_file:\n",
    "    data_train = json.load(json_file)\n",
    "    \n",
    "with open('dataset/data_test.json') as json_file:\n",
    "    data_test = json.load(json_file)"
   ]
  },
  {
   "cell_type": "code",
   "execution_count": 47,
   "id": "b8679668",
   "metadata": {},
   "outputs": [
    {
     "name": "stdout",
     "output_type": "stream",
     "text": [
      "before: 4950\n",
      "after: 1766\n",
      "before: 1304\n",
      "after: 639\n"
     ]
    }
   ],
   "source": [
    "print(\"before: {}\".format(len(data_train['label'])))\n",
    "disturb_dataset(data_train, max_img_per_class_train)\n",
    "print(\"after: {}\".format(len(data_train['label'])))\n",
    "\n",
    "print(\"before: {}\".format(len(data_test['label'])))\n",
    "disturb_dataset(data_test, max_img_per_class_test)\n",
    "print(\"after: {}\".format(len(data_test['label'])))"
   ]
  },
  {
   "cell_type": "code",
   "execution_count": 48,
   "id": "d1dbcde2",
   "metadata": {},
   "outputs": [
    {
     "data": {
      "text/plain": [
       "{'676': 5,\n",
       " '252': 5,\n",
       " '14': 5,\n",
       " '356': 5,\n",
       " '725': 5,\n",
       " '159': 5,\n",
       " '91': 6,\n",
       " '449': 6,\n",
       " '245': 8,\n",
       " '100': 8,\n",
       " '142': 9,\n",
       " '483': 9,\n",
       " '29': 9,\n",
       " '347': 11,\n",
       " '230': 11,\n",
       " '658': 11,\n",
       " '115': 12,\n",
       " '481': 12,\n",
       " '276': 12,\n",
       " '217': 13,\n",
       " '17': 13,\n",
       " '388': 15,\n",
       " '235': 15,\n",
       " '696': 16,\n",
       " '237': 17,\n",
       " '12': 18,\n",
       " '24': 20,\n",
       " '221': 20,\n",
       " '394': 21,\n",
       " '234': 24,\n",
       " '129': 24,\n",
       " '247': 27,\n",
       " '192': 28,\n",
       " '51': 28,\n",
       " '162': 28,\n",
       " '2': 29,\n",
       " '712': 32,\n",
       " '21': 32,\n",
       " '251': 32,\n",
       " '16': 33,\n",
       " '604': 40,\n",
       " '416': 43,\n",
       " '11': 46,\n",
       " '23': 51,\n",
       " '383': 54,\n",
       " '94': 54,\n",
       " '436': 55,\n",
       " '248': 56,\n",
       " '157': 56,\n",
       " '5': 56,\n",
       " '10': 56,\n",
       " '210': 56,\n",
       " '13': 56,\n",
       " '703': 56,\n",
       " '22': 56,\n",
       " '18': 56,\n",
       " '684': 56,\n",
       " '336': 56,\n",
       " '20': 56,\n",
       " '15': 56,\n",
       " '529': 56}"
      ]
     },
     "execution_count": 48,
     "metadata": {},
     "output_type": "execute_result"
    }
   ],
   "source": [
    "test = {k:0 for k in list(set(data_train['label_encoded']))}\n",
    "for i in data_train['label_encoded']:\n",
    "    test[i] += 1\n",
    "{k: v for k, v in sorted(test.items(), key=lambda item: item[1])}"
   ]
  },
  {
   "cell_type": "code",
   "execution_count": 50,
   "id": "e5330be9",
   "metadata": {},
   "outputs": [],
   "source": [
    "with open('dataset/data_test.json', 'w') as f:\n",
    "    json.dump(data_test, f)"
   ]
  },
  {
   "cell_type": "code",
   "execution_count": null,
   "id": "23b07334",
   "metadata": {},
   "outputs": [],
   "source": []
  }
 ],
 "metadata": {
  "kernelspec": {
   "display_name": "D2GO",
   "language": "python",
   "name": "d2go"
  },
  "language_info": {
   "codemirror_mode": {
    "name": "ipython",
    "version": 3
   },
   "file_extension": ".py",
   "mimetype": "text/x-python",
   "name": "python",
   "nbconvert_exporter": "python",
   "pygments_lexer": "ipython3",
   "version": "3.6.13"
  }
 },
 "nbformat": 4,
 "nbformat_minor": 5
}
